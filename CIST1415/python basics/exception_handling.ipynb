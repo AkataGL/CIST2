{
 "cells": [
  {
   "cell_type": "code",
   "execution_count": 1,
   "id": "6f0261af",
   "metadata": {},
   "outputs": [],
   "source": [
    "try:\n",
    "    # code that might throw some exception\n",
    "    pass\n",
    "except Exception:\n",
    "        #print error message or the stack trace\n",
    "        pass\n",
    "else:\n",
    "    # this code world be executed of mp exce[topm os tjrpwm]\n",
    "    pass\n",
    "finally:\n",
    "    # this would be executed irrespective of whether an exeption is thrown or not\n",
    "    pass"
   ]
  },
  {
   "cell_type": "code",
   "execution_count": 2,
   "id": "d97ed6eb",
   "metadata": {},
   "outputs": [
    {
     "ename": "FileNotFoundError",
     "evalue": "[Errno 2] No such file or directory: 'test.txt'",
     "output_type": "error",
     "traceback": [
      "\u001b[1;31m---------------------------------------------------------------------------\u001b[0m",
      "\u001b[1;31mFileNotFoundError\u001b[0m                         Traceback (most recent call last)",
      "Cell \u001b[1;32mIn[2], line 2\u001b[0m\n\u001b[0;32m      1\u001b[0m \u001b[38;5;66;03m## Example - open a file that doesn't exist\u001b[39;00m\n\u001b[1;32m----> 2\u001b[0m ex_file \u001b[38;5;241m=\u001b[39m \u001b[38;5;28;43mopen\u001b[39;49m\u001b[43m(\u001b[49m\u001b[38;5;124;43m'\u001b[39;49m\u001b[38;5;124;43mtest.txt\u001b[39;49m\u001b[38;5;124;43m'\u001b[39;49m\u001b[43m)\u001b[49m\n",
      "File \u001b[1;32m~\\.conda\\envs\\da_s23\\lib\\site-packages\\IPython\\core\\interactiveshell.py:282\u001b[0m, in \u001b[0;36m_modified_open\u001b[1;34m(file, *args, **kwargs)\u001b[0m\n\u001b[0;32m    275\u001b[0m \u001b[38;5;28;01mif\u001b[39;00m file \u001b[38;5;129;01min\u001b[39;00m {\u001b[38;5;241m0\u001b[39m, \u001b[38;5;241m1\u001b[39m, \u001b[38;5;241m2\u001b[39m}:\n\u001b[0;32m    276\u001b[0m     \u001b[38;5;28;01mraise\u001b[39;00m \u001b[38;5;167;01mValueError\u001b[39;00m(\n\u001b[0;32m    277\u001b[0m         \u001b[38;5;124mf\u001b[39m\u001b[38;5;124m\"\u001b[39m\u001b[38;5;124mIPython won\u001b[39m\u001b[38;5;124m'\u001b[39m\u001b[38;5;124mt let you open fd=\u001b[39m\u001b[38;5;132;01m{\u001b[39;00mfile\u001b[38;5;132;01m}\u001b[39;00m\u001b[38;5;124m by default \u001b[39m\u001b[38;5;124m\"\u001b[39m\n\u001b[0;32m    278\u001b[0m         \u001b[38;5;124m\"\u001b[39m\u001b[38;5;124mas it is likely to crash IPython. If you know what you are doing, \u001b[39m\u001b[38;5;124m\"\u001b[39m\n\u001b[0;32m    279\u001b[0m         \u001b[38;5;124m\"\u001b[39m\u001b[38;5;124myou can use builtins\u001b[39m\u001b[38;5;124m'\u001b[39m\u001b[38;5;124m open.\u001b[39m\u001b[38;5;124m\"\u001b[39m\n\u001b[0;32m    280\u001b[0m     )\n\u001b[1;32m--> 282\u001b[0m \u001b[38;5;28;01mreturn\u001b[39;00m io_open(file, \u001b[38;5;241m*\u001b[39margs, \u001b[38;5;241m*\u001b[39m\u001b[38;5;241m*\u001b[39mkwargs)\n",
      "\u001b[1;31mFileNotFoundError\u001b[0m: [Errno 2] No such file or directory: 'test.txt'"
     ]
    }
   ],
   "source": [
    "## Example - open a file that doesn't exist\n",
    "ex_file = open('test.txt')"
   ]
  },
  {
   "cell_type": "code",
   "execution_count": 3,
   "id": "7f8965a3",
   "metadata": {},
   "outputs": [
    {
     "name": "stdout",
     "output_type": "stream",
     "text": [
      "file does not exist\n"
     ]
    }
   ],
   "source": [
    "try:\n",
    "    ex_file = open('test.txt')\n",
    "except Exception:\n",
    "    print('file does not exist')"
   ]
  },
  {
   "cell_type": "code",
   "execution_count": 1,
   "id": "12eab3a2",
   "metadata": {},
   "outputs": [
    {
     "name": "stdout",
     "output_type": "stream",
     "text": [
      "File exist\n"
     ]
    }
   ],
   "source": [
    "try:\n",
    "    ex_file = open('test.txt')\n",
    "    print('File exist')\n",
    "except Exception:\n",
    "    print('file does not exist')"
   ]
  },
  {
   "cell_type": "code",
   "execution_count": 1,
   "id": "75845cf8",
   "metadata": {},
   "outputs": [
    {
     "name": "stdout",
     "output_type": "stream",
     "text": [
      "File exist\n",
      "# this is a test file\n"
     ]
    }
   ],
   "source": [
    "try:\n",
    "    ex_file = open('test.txt')\n",
    "    print('File exist')\n",
    "except Exception:\n",
    "    print('file does not exist')\n",
    "else:\n",
    "    print(ex_file.read())"
   ]
  },
  {
   "cell_type": "code",
   "execution_count": 2,
   "id": "bed2af37",
   "metadata": {},
   "outputs": [
    {
     "name": "stdout",
     "output_type": "stream",
     "text": [
      "File exist\n",
      "file does not exist\n"
     ]
    }
   ],
   "source": [
    "try:\n",
    "    ex_file = open('test.txt')\n",
    "    print('File exist')\n",
    "    ex_var = num_var\n",
    "except Exception:\n",
    "    print('file does not exist')\n",
    "else:\n",
    "    print(ex_file.read())"
   ]
  },
  {
   "cell_type": "code",
   "execution_count": 3,
   "id": "ff0a575f",
   "metadata": {},
   "outputs": [
    {
     "name": "stdout",
     "output_type": "stream",
     "text": [
      "File exist\n"
     ]
    },
    {
     "ename": "NameError",
     "evalue": "name 'num_var' is not defined",
     "output_type": "error",
     "traceback": [
      "\u001b[1;31m---------------------------------------------------------------------------\u001b[0m",
      "\u001b[1;31mNameError\u001b[0m                                 Traceback (most recent call last)",
      "Cell \u001b[1;32mIn[3], line 4\u001b[0m\n\u001b[0;32m      2\u001b[0m     ex_file \u001b[38;5;241m=\u001b[39m \u001b[38;5;28mopen\u001b[39m(\u001b[38;5;124m'\u001b[39m\u001b[38;5;124mtest.txt\u001b[39m\u001b[38;5;124m'\u001b[39m)\n\u001b[0;32m      3\u001b[0m     \u001b[38;5;28mprint\u001b[39m(\u001b[38;5;124m'\u001b[39m\u001b[38;5;124mFile exist\u001b[39m\u001b[38;5;124m'\u001b[39m)\n\u001b[1;32m----> 4\u001b[0m     ex_var \u001b[38;5;241m=\u001b[39m \u001b[43mnum_var\u001b[49m\n\u001b[0;32m      5\u001b[0m \u001b[38;5;28;01mexcept\u001b[39;00m \u001b[38;5;167;01mFileNotFoundError\u001b[39;00m:\n\u001b[0;32m      6\u001b[0m     \u001b[38;5;28mprint\u001b[39m(\u001b[38;5;124m'\u001b[39m\u001b[38;5;124mfile does not exist\u001b[39m\u001b[38;5;124m'\u001b[39m)\n",
      "\u001b[1;31mNameError\u001b[0m: name 'num_var' is not defined"
     ]
    }
   ],
   "source": [
    "try:\n",
    "    ex_file = open('test.txt')\n",
    "    print('File exist')\n",
    "    ex_var = num_var\n",
    "except FileNotFoundError:\n",
    "    print('file does not exist')\n",
    "else:\n",
    "    print(ex_file.read())"
   ]
  },
  {
   "cell_type": "code",
   "execution_count": 4,
   "id": "6b21adcd",
   "metadata": {},
   "outputs": [
    {
     "name": "stdout",
     "output_type": "stream",
     "text": [
      "File exist\n",
      "Undefined varible\n"
     ]
    }
   ],
   "source": [
    "try:\n",
    "    ex_file = open('test.txt')\n",
    "    print('File exist')\n",
    "    ex_var = num_var\n",
    "except FileNotFoundError:\n",
    "    print('file does not exist')\n",
    "except NameError:\n",
    "    print('Undefined varible')\n",
    "else:\n",
    "    print(ex_file.read())"
   ]
  },
  {
   "cell_type": "code",
   "execution_count": 7,
   "id": "09806beb",
   "metadata": {},
   "outputs": [
    {
     "name": "stdout",
     "output_type": "stream",
     "text": [
      "File exist\n"
     ]
    },
    {
     "ename": "ZeroDivisionError",
     "evalue": "division by zero",
     "output_type": "error",
     "traceback": [
      "\u001b[1;31m---------------------------------------------------------------------------\u001b[0m",
      "\u001b[1;31mZeroDivisionError\u001b[0m                         Traceback (most recent call last)",
      "Cell \u001b[1;32mIn[7], line 5\u001b[0m\n\u001b[0;32m      3\u001b[0m     \u001b[38;5;28mprint\u001b[39m(\u001b[38;5;124m'\u001b[39m\u001b[38;5;124mFile exist\u001b[39m\u001b[38;5;124m'\u001b[39m)\n\u001b[0;32m      4\u001b[0m     num_var \u001b[38;5;241m=\u001b[39m \u001b[38;5;241m5\u001b[39m\n\u001b[1;32m----> 5\u001b[0m     ex_var \u001b[38;5;241m=\u001b[39m \u001b[43mnum_var\u001b[49m\u001b[38;5;241;43m/\u001b[39;49m\u001b[38;5;241;43m0\u001b[39;49m\n\u001b[0;32m      6\u001b[0m \u001b[38;5;28;01mexcept\u001b[39;00m \u001b[38;5;167;01mFileNotFoundError\u001b[39;00m:\n\u001b[0;32m      7\u001b[0m     \u001b[38;5;28mprint\u001b[39m(\u001b[38;5;124m'\u001b[39m\u001b[38;5;124mfile does not exist\u001b[39m\u001b[38;5;124m'\u001b[39m)\n",
      "\u001b[1;31mZeroDivisionError\u001b[0m: division by zero"
     ]
    }
   ],
   "source": [
    "try:\n",
    "    ex_file = open('test.txt')\n",
    "    print('File exist')\n",
    "    num_var = 5\n",
    "    ex_var = num_var/0\n",
    "except FileNotFoundError:\n",
    "    print('file does not exist')\n",
    "except NameError:\n",
    "    print('Undefined varible')\n",
    "else:\n",
    "    print(ex_file.read())"
   ]
  },
  {
   "cell_type": "code",
   "execution_count": 8,
   "id": "982f1afb",
   "metadata": {},
   "outputs": [
    {
     "name": "stdout",
     "output_type": "stream",
     "text": [
      "File exist\n",
      "Check for dividing 0\n"
     ]
    }
   ],
   "source": [
    "try:\n",
    "    ex_file = open('test.txt')\n",
    "    print('File exist')\n",
    "    num_var = 5\n",
    "    ex_var = num_var/0\n",
    "except FileNotFoundError:\n",
    "    print('file does not exist')\n",
    "except NameError:\n",
    "    print('Undefined varible')\n",
    "except ZeroDivisionError:\n",
    "    print('Check for dividing 0')\n",
    "else:\n",
    "    print(ex_file.read())"
   ]
  },
  {
   "cell_type": "code",
   "execution_count": 10,
   "id": "e4637351",
   "metadata": {},
   "outputs": [
    {
     "name": "stdout",
     "output_type": "stream",
     "text": [
      "File exist\n",
      "division by zero\n"
     ]
    }
   ],
   "source": [
    "try:\n",
    "    ex_file = open('test.txt')\n",
    "    print('File exist')\n",
    "    num_var = 5\n",
    "    ex_var = num_var/0\n",
    "except (FileNotFoundError, ZeroDivisionError, NameError) as e:\n",
    "    print(e)\n",
    "else:\n",
    "    print(ex_file.read())"
   ]
  },
  {
   "cell_type": "code",
   "execution_count": 12,
   "id": "af019db9",
   "metadata": {},
   "outputs": [
    {
     "name": "stdout",
     "output_type": "stream",
     "text": [
      "File exist\n",
      "# this is a test file\n"
     ]
    }
   ],
   "source": [
    "try:\n",
    "    ex_file = open('test.txt')\n",
    "    print('File exist')\n",
    "    #num_var = 5\n",
    "    ex_var = num_var\n",
    "except (FileNotFoundError, ZeroDivisionError, NameError) as e:\n",
    "    print(e)\n",
    "else:\n",
    "    print(ex_file.read())"
   ]
  },
  {
   "cell_type": "code",
   "execution_count": null,
   "id": "66ae543c",
   "metadata": {},
   "outputs": [],
   "source": []
  }
 ],
 "metadata": {
  "kernelspec": {
   "display_name": "Python 3 (ipykernel)",
   "language": "python",
   "name": "python3"
  },
  "language_info": {
   "codemirror_mode": {
    "name": "ipython",
    "version": 3
   },
   "file_extension": ".py",
   "mimetype": "text/x-python",
   "name": "python",
   "nbconvert_exporter": "python",
   "pygments_lexer": "ipython3",
   "version": "3.10.8"
  }
 },
 "nbformat": 4,
 "nbformat_minor": 5
}
