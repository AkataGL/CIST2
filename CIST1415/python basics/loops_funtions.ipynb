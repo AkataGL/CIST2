{
 "cells": [
  {
   "cell_type": "markdown",
   "id": "48e42a83",
   "metadata": {},
   "source": [
    "### Looping"
   ]
  },
  {
   "cell_type": "markdown",
   "id": "ced24452",
   "metadata": {},
   "source": [
    "#### For Loops\n",
    "* Iterate over a sequence for a certain number of times"
   ]
  },
  {
   "cell_type": "code",
   "execution_count": 1,
   "id": "3373b452",
   "metadata": {},
   "outputs": [
    {
     "name": "stdout",
     "output_type": "stream",
     "text": [
      "2\n",
      "5\n",
      "7\n",
      "9\n"
     ]
    }
   ],
   "source": [
    "nums = [2,5,7,9]\n",
    "\n",
    "for num in nums:\n",
    "    print(num)"
   ]
  },
  {
   "cell_type": "code",
   "execution_count": 2,
   "id": "b5cd8278",
   "metadata": {},
   "outputs": [
    {
     "name": "stdout",
     "output_type": "stream",
     "text": [
      "7\n"
     ]
    }
   ],
   "source": [
    "nums = [2,5,7,9]\n",
    "\n",
    "for num in nums:\n",
    "    if num == 7:\n",
    "        print(num)"
   ]
  },
  {
   "cell_type": "code",
   "execution_count": 6,
   "id": "71e69741",
   "metadata": {
    "scrolled": true
   },
   "outputs": [
    {
     "name": "stdout",
     "output_type": "stream",
     "text": [
      "Found the number 7\n"
     ]
    }
   ],
   "source": [
    "nums = [2,5,7,9]\n",
    "\n",
    "for num in nums:\n",
    "    if num == 7:\n",
    "        print(f'Found the number {num}')"
   ]
  },
  {
   "cell_type": "code",
   "execution_count": 5,
   "id": "2c1deaff",
   "metadata": {},
   "outputs": [
    {
     "name": "stdout",
     "output_type": "stream",
     "text": [
      "2\n",
      "5\n",
      "Found the number 7\n"
     ]
    }
   ],
   "source": [
    "nums = [2,5,7,9]\n",
    "\n",
    "for num in nums:\n",
    "    if num == 7:\n",
    "        print(f'Found the number {num}')\n",
    "        break\n",
    "    print(num)"
   ]
  },
  {
   "cell_type": "markdown",
   "id": "a2a9c4f1",
   "metadata": {},
   "source": [
    "#### continue - to ignore a value and continue with next execution"
   ]
  },
  {
   "cell_type": "code",
   "execution_count": 8,
   "id": "8575ec28",
   "metadata": {},
   "outputs": [
    {
     "name": "stdout",
     "output_type": "stream",
     "text": [
      "2\n",
      "5\n",
      "Found the number 7\n",
      "9\n"
     ]
    }
   ],
   "source": [
    "nums = [2,5,7,9]\n",
    "\n",
    "for num in nums:\n",
    "    if num == 7:\n",
    "        print(f'Found the number {num}')\n",
    "        continue\n",
    "    print(num)"
   ]
  },
  {
   "cell_type": "markdown",
   "id": "fc9ae11f",
   "metadata": {},
   "source": [
    "### Looping through Strings"
   ]
  },
  {
   "cell_type": "code",
   "execution_count": 11,
   "id": "f8e7b0f9",
   "metadata": {},
   "outputs": [
    {
     "name": "stdout",
     "output_type": "stream",
     "text": [
      "H\n",
      "e\n",
      "l\n",
      "l\n",
      "o\n"
     ]
    }
   ],
   "source": [
    "str = 'Hello'\n",
    "\n",
    "# Same to lists, we can access each character of a string\n",
    "for char in str:\n",
    "    print(char)"
   ]
  },
  {
   "cell_type": "code",
   "execution_count": 12,
   "id": "4c6582a7",
   "metadata": {},
   "outputs": [
    {
     "name": "stdout",
     "output_type": "stream",
     "text": [
      "H\n",
      "E\n",
      "L\n",
      "L\n",
      "O\n"
     ]
    }
   ],
   "source": [
    "## Can also perform operations while iterating\n",
    "\n",
    "for char in str:\n",
    "    print(char.upper())"
   ]
  },
  {
   "cell_type": "code",
   "execution_count": 14,
   "id": "ad300ae4",
   "metadata": {},
   "outputs": [
    {
     "name": "stdout",
     "output_type": "stream",
     "text": [
      "1 a\n",
      "1 b\n",
      "1 c\n",
      "2 a\n",
      "2 b\n",
      "2 c\n",
      "3 a\n",
      "3 b\n",
      "3 c\n"
     ]
    }
   ],
   "source": [
    "### Nested Loop\n",
    "nums = [1,2,3]\n",
    "str1 = 'abc'\n",
    "\n",
    "for num in nums: \n",
    "    for char in str1:\n",
    "        print(num,char)\n",
    "    "
   ]
  },
  {
   "cell_type": "markdown",
   "id": "dcf0b15b",
   "metadata": {},
   "source": [
    "#### range() - to execute a loop a fixed number of times"
   ]
  },
  {
   "cell_type": "code",
   "execution_count": 15,
   "id": "8875c92a",
   "metadata": {},
   "outputs": [
    {
     "name": "stdout",
     "output_type": "stream",
     "text": [
      "0\n",
      "1\n",
      "2\n",
      "3\n",
      "4\n"
     ]
    }
   ],
   "source": [
    "for i in range(5):\n",
    "    print(i)"
   ]
  },
  {
   "cell_type": "code",
   "execution_count": 16,
   "id": "eb618230",
   "metadata": {},
   "outputs": [
    {
     "name": "stdout",
     "output_type": "stream",
     "text": [
      "1\n",
      "2\n",
      "3\n",
      "4\n",
      "5\n",
      "6\n",
      "7\n",
      "8\n",
      "9\n",
      "10\n"
     ]
    }
   ],
   "source": [
    "for i in range(1,11):\n",
    "    print(i)"
   ]
  },
  {
   "cell_type": "code",
   "execution_count": 19,
   "id": "b67c0441",
   "metadata": {},
   "outputs": [
    {
     "name": "stdout",
     "output_type": "stream",
     "text": [
      "0\n",
      "1\n",
      "2\n",
      "3\n"
     ]
    }
   ],
   "source": [
    "num_list = [1,2,3,4]\n",
    "\n",
    "for i in range(len(num_list)):\n",
    "    print(i)"
   ]
  },
  {
   "cell_type": "markdown",
   "id": "0844cbbe",
   "metadata": {},
   "source": [
    "### While Loops\n",
    "* Exected untill a certain condition is met or until we encounter a break statement"
   ]
  },
  {
   "cell_type": "code",
   "execution_count": 21,
   "id": "35fb6798",
   "metadata": {},
   "outputs": [
    {
     "name": "stdout",
     "output_type": "stream",
     "text": [
      "0\n",
      "1\n",
      "2\n",
      "3\n",
      "4\n",
      "5\n",
      "6\n",
      "7\n",
      "8\n",
      "9\n"
     ]
    }
   ],
   "source": [
    "x = 0\n",
    "\n",
    "while x < 10:\n",
    "    print(x)\n",
    "    x = x+1"
   ]
  },
  {
   "cell_type": "code",
   "execution_count": 27,
   "id": "e2f0ee30",
   "metadata": {},
   "outputs": [
    {
     "name": "stdout",
     "output_type": "stream",
     "text": [
      "0\n",
      "1\n",
      "2\n",
      "3\n",
      "4\n",
      "5\n"
     ]
    }
   ],
   "source": [
    "## at any point we can break the loop by including a condition and break key word\n",
    "x = 0\n",
    "while x < 10:\n",
    "    print(x)\n",
    "    if x == 5:\n",
    "        break\n",
    "    x += 1"
   ]
  },
  {
   "cell_type": "markdown",
   "id": "7ffa6be9",
   "metadata": {},
   "source": [
    "### enumerate - access both the index and value of the element simulaneously"
   ]
  },
  {
   "cell_type": "code",
   "execution_count": 28,
   "id": "0366daa0",
   "metadata": {},
   "outputs": [
    {
     "name": "stdout",
     "output_type": "stream",
     "text": [
      "0 john\n",
      "1 Amy\n",
      "2 Ryan\n"
     ]
    }
   ],
   "source": [
    "emp_list = ['john', 'Amy', 'Ryan']\n",
    "\n",
    "for idx, name in enumerate(emp_list):\n",
    "    print(idx, name)"
   ]
  },
  {
   "cell_type": "markdown",
   "id": "96f6dba5",
   "metadata": {},
   "source": [
    "## COMPEHENSIONS\n",
    "* Easier and more readble way to create sequences (list, sets, dictionarie)"
   ]
  },
  {
   "cell_type": "code",
   "execution_count": 31,
   "id": "636b728b",
   "metadata": {},
   "outputs": [
    {
     "data": {
      "text/plain": [
       "[1, 2, 3, 4, 5, 6, 7, 8, 9, 10]"
      ]
     },
     "execution_count": 31,
     "metadata": {},
     "output_type": "execute_result"
    }
   ],
   "source": [
    "# Let's say we want to crate the below list\n",
    "nums_list = [1,2,3,4,5,6,7,8,9,10]\n",
    "\n",
    "# Approach 1: create an empty list and then append each value using for Loop\n",
    "\n",
    "new_list = []\n",
    "for num in nums_list:\n",
    "    new_list.append(num)\n",
    "new_list"
   ]
  },
  {
   "cell_type": "code",
   "execution_count": 34,
   "id": "9724b393",
   "metadata": {},
   "outputs": [
    {
     "data": {
      "text/plain": [
       "[1, 2, 3, 4, 5, 6, 7, 8, 9, 10]"
      ]
     },
     "execution_count": 34,
     "metadata": {},
     "output_type": "execute_result"
    }
   ],
   "source": [
    "# Appriach 2 - sung list comperhensions\n",
    "\n",
    "new_list = [num for num in nums_list]\n",
    "new_list"
   ]
  },
  {
   "cell_type": "code",
   "execution_count": 37,
   "id": "38552a1e",
   "metadata": {},
   "outputs": [
    {
     "data": {
      "text/plain": [
       "[1, 4, 9, 16, 25, 36, 49, 64, 81, 100]"
      ]
     },
     "execution_count": 37,
     "metadata": {},
     "output_type": "execute_result"
    }
   ],
   "source": [
    "new_list = []\n",
    "\n",
    "for num in nums_list:\n",
    "    new_list.append(num*num)\n",
    "new_list"
   ]
  },
  {
   "cell_type": "code",
   "execution_count": 39,
   "id": "d1047eb0",
   "metadata": {},
   "outputs": [
    {
     "data": {
      "text/plain": [
       "[1, 4, 9, 16, 25, 36, 49, 64, 81, 100]"
      ]
     },
     "execution_count": 39,
     "metadata": {},
     "output_type": "execute_result"
    }
   ],
   "source": [
    "new_list =[num*num for num in nums_list]\n",
    "new_list"
   ]
  },
  {
   "cell_type": "code",
   "execution_count": 43,
   "id": "0b1d63ea",
   "metadata": {},
   "outputs": [
    {
     "data": {
      "text/plain": [
       "[2, 4, 6, 8, 10]"
      ]
     },
     "execution_count": 43,
     "metadata": {},
     "output_type": "execute_result"
    }
   ],
   "source": [
    "new_list = []\n",
    "\n",
    "for num in nums_list:\n",
    "    if num % 2 == 0:\n",
    "        new_list.append(num)\n",
    "new_list    "
   ]
  },
  {
   "cell_type": "code",
   "execution_count": 45,
   "id": "13676553",
   "metadata": {},
   "outputs": [
    {
     "data": {
      "text/plain": [
       "[2, 4, 6, 8, 10]"
      ]
     },
     "execution_count": 45,
     "metadata": {},
     "output_type": "execute_result"
    }
   ],
   "source": [
    "new_list = [num for num in nums_list if num % 2 == 0]\n",
    "new_list"
   ]
  },
  {
   "cell_type": "code",
   "execution_count": 51,
   "id": "4d1720e6",
   "metadata": {},
   "outputs": [
    {
     "data": {
      "text/plain": [
       "[('1', 'a'),\n",
       " ('1', 'b'),\n",
       " ('1', 'c'),\n",
       " ('1', 'd'),\n",
       " ('2', 'a'),\n",
       " ('2', 'b'),\n",
       " ('2', 'c'),\n",
       " ('2', 'd'),\n",
       " ('3', 'a'),\n",
       " ('3', 'b'),\n",
       " ('3', 'c'),\n",
       " ('3', 'd'),\n",
       " ('4', 'a'),\n",
       " ('4', 'b'),\n",
       " ('4', 'c'),\n",
       " ('4', 'd')]"
      ]
     },
     "execution_count": 51,
     "metadata": {},
     "output_type": "execute_result"
    }
   ],
   "source": [
    "pairs_list = []\n",
    "for num in '1234':\n",
    "    for char in 'abcd':\n",
    "        pairs_list.append((num,char))\n",
    "    \n",
    "pairs_list"
   ]
  },
  {
   "cell_type": "code",
   "execution_count": 53,
   "id": "8347df8b",
   "metadata": {},
   "outputs": [
    {
     "data": {
      "text/plain": [
       "[('1', 'a'),\n",
       " ('1', 'b'),\n",
       " ('1', 'c'),\n",
       " ('1', 'd'),\n",
       " ('2', 'a'),\n",
       " ('2', 'b'),\n",
       " ('2', 'c'),\n",
       " ('2', 'd'),\n",
       " ('3', 'a'),\n",
       " ('3', 'b'),\n",
       " ('3', 'c'),\n",
       " ('3', 'd'),\n",
       " ('4', 'a'),\n",
       " ('4', 'b'),\n",
       " ('4', 'c'),\n",
       " ('4', 'd')]"
      ]
     },
     "execution_count": 53,
     "metadata": {},
     "output_type": "execute_result"
    }
   ],
   "source": [
    "pairs_list = [(num, char) for num in '1234' for char in 'abcd']\n",
    "pairs_list"
   ]
  },
  {
   "cell_type": "markdown",
   "id": "14b68a71",
   "metadata": {},
   "source": [
    "### Dictionary Comprehensions"
   ]
  },
  {
   "cell_type": "code",
   "execution_count": 57,
   "id": "a7763bbd",
   "metadata": {},
   "outputs": [
    {
     "data": {
      "text/plain": [
       "{'USA': 'Washington D.C',\n",
       " 'France': 'Paris',\n",
       " 'Spain': 'Madrid',\n",
       " 'Germany': 'Berlin',\n",
       " 'Japan': 'Tokyo'}"
      ]
     },
     "execution_count": 57,
     "metadata": {},
     "output_type": "execute_result"
    }
   ],
   "source": [
    "countries = ['USA', 'France', 'Spain', 'Germany', 'Japan']\n",
    "\n",
    "capital_cities = ['Washington D.C', 'Paris', 'Madrid', 'Berlin', 'Tokyo']\n",
    "\n",
    "country_dict = {}\n",
    "\n",
    "for cntry, cap in zip(countries, capital_cities):\n",
    "    country_dict[cntry] = cap\n",
    "\n",
    "country_dict"
   ]
  },
  {
   "cell_type": "code",
   "execution_count": 59,
   "id": "4f9fbfcb",
   "metadata": {},
   "outputs": [
    {
     "data": {
      "text/plain": [
       "{'USA': 'Washington D.C',\n",
       " 'France': 'Paris',\n",
       " 'Spain': 'Madrid',\n",
       " 'Germany': 'Berlin',\n",
       " 'Japan': 'Tokyo'}"
      ]
     },
     "execution_count": 59,
     "metadata": {},
     "output_type": "execute_result"
    }
   ],
   "source": [
    "country_dict = {cntry:cap for cntry, cap in zip(countries, capital_cities)}\n",
    "\n",
    "country_dict"
   ]
  },
  {
   "cell_type": "code",
   "execution_count": 60,
   "id": "7e613760",
   "metadata": {},
   "outputs": [
    {
     "data": {
      "text/plain": [
       "{'USA': 'Washington D.C',\n",
       " 'France': 'Paris',\n",
       " 'Germany': 'Berlin',\n",
       " 'Japan': 'Tokyo'}"
      ]
     },
     "execution_count": 60,
     "metadata": {},
     "output_type": "execute_result"
    }
   ],
   "source": [
    "country_dict = {cntry:cap for cntry, cap in zip(countries, capital_cities) if cntry != 'Spain'}\n",
    "\n",
    "country_dict"
   ]
  },
  {
   "cell_type": "code",
   "execution_count": 62,
   "id": "95b079a0",
   "metadata": {},
   "outputs": [
    {
     "name": "stdout",
     "output_type": "stream",
     "text": [
      "[1, 1, 2, 6, 3, 8, 5, 2, 3, 3, 0]\n",
      "{0, 1, 2, 3, 5, 6, 8}\n"
     ]
    }
   ],
   "source": [
    "nums_list = [1,1,2,6,3,8,5,2,3,3,0]\n",
    "print(nums_list)\n",
    "nums_set = {num for num in nums_list}\n",
    "print (nums_set)"
   ]
  },
  {
   "cell_type": "code",
   "execution_count": null,
   "id": "6c4eaafe",
   "metadata": {},
   "outputs": [],
   "source": []
  }
 ],
 "metadata": {
  "kernelspec": {
   "display_name": "Python 3 (ipykernel)",
   "language": "python",
   "name": "python3"
  },
  "language_info": {
   "codemirror_mode": {
    "name": "ipython",
    "version": 3
   },
   "file_extension": ".py",
   "mimetype": "text/x-python",
   "name": "python",
   "nbconvert_exporter": "python",
   "pygments_lexer": "ipython3",
   "version": "3.10.8"
  }
 },
 "nbformat": 4,
 "nbformat_minor": 5
}
