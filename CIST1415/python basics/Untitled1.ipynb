{
 "cells": [
  {
   "cell_type": "code",
   "execution_count": 2,
   "id": "5f59923e",
   "metadata": {},
   "outputs": [],
   "source": [
    "import pandas as pd"
   ]
  },
  {
   "cell_type": "code",
   "execution_count": 24,
   "id": "79c2a597",
   "metadata": {},
   "outputs": [
    {
     "data": {
      "text/html": [
       "<div>\n",
       "<style scoped>\n",
       "    .dataframe tbody tr th:only-of-type {\n",
       "        vertical-align: middle;\n",
       "    }\n",
       "\n",
       "    .dataframe tbody tr th {\n",
       "        vertical-align: top;\n",
       "    }\n",
       "\n",
       "    .dataframe thead th {\n",
       "        text-align: right;\n",
       "    }\n",
       "</style>\n",
       "<table border=\"1\" class=\"dataframe\">\n",
       "  <thead>\n",
       "    <tr style=\"text-align: right;\">\n",
       "      <th></th>\n",
       "      <th>organisation</th>\n",
       "      <th>year</th>\n",
       "      <th>vendor_country</th>\n",
       "      <th>vendor_name</th>\n",
       "      <th>amount</th>\n",
       "      <th>description</th>\n",
       "      <th>country_code</th>\n",
       "      <th>Type</th>\n",
       "      <th>Period</th>\n",
       "    </tr>\n",
       "  </thead>\n",
       "  <tbody>\n",
       "    <tr>\n",
       "      <th>0</th>\n",
       "      <td>NATO</td>\n",
       "      <td>2008</td>\n",
       "      <td>Belgium</td>\n",
       "      <td>INFRAVISION BVBA</td>\n",
       "      <td>$1,259,084.40</td>\n",
       "      <td>SOFTWARE LICENCES AND PRODUCT MAINTENANCE</td>\n",
       "      <td>BEL</td>\n",
       "      <td>Orders Awarded</td>\n",
       "      <td>Q3Q4</td>\n",
       "    </tr>\n",
       "    <tr>\n",
       "      <th>1</th>\n",
       "      <td>NATO</td>\n",
       "      <td>2008</td>\n",
       "      <td>Belgium</td>\n",
       "      <td>THALES BELGIUM SA</td>\n",
       "      <td>$1,830,885.00</td>\n",
       "      <td>SUPPLIES FOR AWACS</td>\n",
       "      <td>BEL</td>\n",
       "      <td>Orders Awarded</td>\n",
       "      <td>Q3Q4</td>\n",
       "    </tr>\n",
       "    <tr>\n",
       "      <th>2</th>\n",
       "      <td>NATO</td>\n",
       "      <td>2008</td>\n",
       "      <td>Belgium</td>\n",
       "      <td>THALES BELGIUM SA</td>\n",
       "      <td>$169,478,488.83</td>\n",
       "      <td>48 PROTECTED VEHICLE PLATFORMS (DINGO II) INTE...</td>\n",
       "      <td>BEL</td>\n",
       "      <td>Orders Awarded</td>\n",
       "      <td>Q1Q2</td>\n",
       "    </tr>\n",
       "    <tr>\n",
       "      <th>3</th>\n",
       "      <td>NATO</td>\n",
       "      <td>2008</td>\n",
       "      <td>Belgium</td>\n",
       "      <td>THALES BELGIUM SA</td>\n",
       "      <td>$169,478,488.83</td>\n",
       "      <td>48 PROTECTED VEHICLE PLATFORMS (DINGO II), INT...</td>\n",
       "      <td>BEL</td>\n",
       "      <td>Orders Awarded</td>\n",
       "      <td>Q1Q2</td>\n",
       "    </tr>\n",
       "    <tr>\n",
       "      <th>4</th>\n",
       "      <td>NATO</td>\n",
       "      <td>2008</td>\n",
       "      <td>Bulgaria</td>\n",
       "      <td>VMZ CO</td>\n",
       "      <td>$2,180,010.00</td>\n",
       "      <td>SUPPLY OF AMMUNITION - 40 MM ROUNDS</td>\n",
       "      <td>BGR</td>\n",
       "      <td>Orders Awarded</td>\n",
       "      <td>Q1Q2</td>\n",
       "    </tr>\n",
       "    <tr>\n",
       "      <th>...</th>\n",
       "      <td>...</td>\n",
       "      <td>...</td>\n",
       "      <td>...</td>\n",
       "      <td>...</td>\n",
       "      <td>...</td>\n",
       "      <td>...</td>\n",
       "      <td>...</td>\n",
       "      <td>...</td>\n",
       "      <td>...</td>\n",
       "    </tr>\n",
       "    <tr>\n",
       "      <th>7197</th>\n",
       "      <td>NATO</td>\n",
       "      <td>2019</td>\n",
       "      <td>United States</td>\n",
       "      <td>TRIMBLE MILITARY AND ADVANCED</td>\n",
       "      <td>$159,228.16</td>\n",
       "      <td>PROVISION OF TRIMBLE FORCE 27 GPS RECEIVER</td>\n",
       "      <td>USA</td>\n",
       "      <td>Orders Awarded</td>\n",
       "      <td>Q3Q4</td>\n",
       "    </tr>\n",
       "    <tr>\n",
       "      <th>7198</th>\n",
       "      <td>NATO</td>\n",
       "      <td>2019</td>\n",
       "      <td>United States</td>\n",
       "      <td>US DYNAMICS CORPORATION</td>\n",
       "      <td>$417,924.64</td>\n",
       "      <td>SPARE PARTS FOR THE SUPPORT OF ANFPS 117 RADAR...</td>\n",
       "      <td>USA</td>\n",
       "      <td>Orders Awarded</td>\n",
       "      <td>Q1Q2</td>\n",
       "    </tr>\n",
       "    <tr>\n",
       "      <th>7199</th>\n",
       "      <td>NATO</td>\n",
       "      <td>2019</td>\n",
       "      <td>United States</td>\n",
       "      <td>VAREC INC</td>\n",
       "      <td>$13,888,000.00</td>\n",
       "      <td>PROVISION NATO FUEL MONITORING SERV- AUG-DEC -...</td>\n",
       "      <td>USA</td>\n",
       "      <td>Outline Agreement</td>\n",
       "      <td>Q3Q4</td>\n",
       "    </tr>\n",
       "    <tr>\n",
       "      <th>7200</th>\n",
       "      <td>NATO</td>\n",
       "      <td>2019</td>\n",
       "      <td>United States</td>\n",
       "      <td>WESCO MANUFACTURING INC</td>\n",
       "      <td>$1,813,426.72</td>\n",
       "      <td>INSPECTION  REPAIR AND OVERHAUL OF VARIOUS C-1...</td>\n",
       "      <td>USA</td>\n",
       "      <td>Outline Agreement</td>\n",
       "      <td>Q1Q2</td>\n",
       "    </tr>\n",
       "    <tr>\n",
       "      <th>7201</th>\n",
       "      <td>NATO</td>\n",
       "      <td>2019</td>\n",
       "      <td>United States</td>\n",
       "      <td>WESCO MANUFACTURING INC</td>\n",
       "      <td>$1,876,463.68</td>\n",
       "      <td>INSPECTION  REPAIR AND OVERHAUL OF VARIOUS C-1...</td>\n",
       "      <td>USA</td>\n",
       "      <td>Outline Agreement</td>\n",
       "      <td>Q1Q2</td>\n",
       "    </tr>\n",
       "  </tbody>\n",
       "</table>\n",
       "<p>7202 rows × 9 columns</p>\n",
       "</div>"
      ],
      "text/plain": [
       "     organisation  year vendor_country                    vendor_name  \\\n",
       "0            NATO  2008        Belgium               INFRAVISION BVBA   \n",
       "1            NATO  2008        Belgium              THALES BELGIUM SA   \n",
       "2            NATO  2008        Belgium              THALES BELGIUM SA   \n",
       "3            NATO  2008        Belgium              THALES BELGIUM SA   \n",
       "4            NATO  2008       Bulgaria                         VMZ CO   \n",
       "...           ...   ...            ...                            ...   \n",
       "7197         NATO  2019  United States  TRIMBLE MILITARY AND ADVANCED   \n",
       "7198         NATO  2019  United States        US DYNAMICS CORPORATION   \n",
       "7199         NATO  2019  United States                      VAREC INC   \n",
       "7200         NATO  2019  United States        WESCO MANUFACTURING INC   \n",
       "7201         NATO  2019  United States        WESCO MANUFACTURING INC   \n",
       "\n",
       "               amount                                        description  \\\n",
       "0       $1,259,084.40          SOFTWARE LICENCES AND PRODUCT MAINTENANCE   \n",
       "1       $1,830,885.00                                 SUPPLIES FOR AWACS   \n",
       "2     $169,478,488.83  48 PROTECTED VEHICLE PLATFORMS (DINGO II) INTE...   \n",
       "3     $169,478,488.83  48 PROTECTED VEHICLE PLATFORMS (DINGO II), INT...   \n",
       "4       $2,180,010.00                SUPPLY OF AMMUNITION - 40 MM ROUNDS   \n",
       "...               ...                                                ...   \n",
       "7197      $159,228.16         PROVISION OF TRIMBLE FORCE 27 GPS RECEIVER   \n",
       "7198      $417,924.64  SPARE PARTS FOR THE SUPPORT OF ANFPS 117 RADAR...   \n",
       "7199   $13,888,000.00  PROVISION NATO FUEL MONITORING SERV- AUG-DEC -...   \n",
       "7200    $1,813,426.72  INSPECTION  REPAIR AND OVERHAUL OF VARIOUS C-1...   \n",
       "7201    $1,876,463.68  INSPECTION  REPAIR AND OVERHAUL OF VARIOUS C-1...   \n",
       "\n",
       "     country_code               Type Period  \n",
       "0             BEL     Orders Awarded   Q3Q4  \n",
       "1             BEL     Orders Awarded   Q3Q4  \n",
       "2             BEL     Orders Awarded   Q1Q2  \n",
       "3             BEL     Orders Awarded   Q1Q2  \n",
       "4             BGR     Orders Awarded   Q1Q2  \n",
       "...           ...                ...    ...  \n",
       "7197          USA     Orders Awarded   Q3Q4  \n",
       "7198          USA     Orders Awarded   Q1Q2  \n",
       "7199          USA  Outline Agreement   Q3Q4  \n",
       "7200          USA  Outline Agreement   Q1Q2  \n",
       "7201          USA  Outline Agreement   Q1Q2  \n",
       "\n",
       "[7202 rows x 9 columns]"
      ]
     },
     "execution_count": 24,
     "metadata": {},
     "output_type": "execute_result"
    }
   ],
   "source": [
    "so_surv_df = pd.read_csv('Nato/nato.csv')\n",
    "so_surv_df\n",
    "\n",
    "##df - dataframe"
   ]
  },
  {
   "cell_type": "code",
   "execution_count": 25,
   "id": "91758e25",
   "metadata": {},
   "outputs": [
    {
     "data": {
      "text/plain": [
       "(7202, 9)"
      ]
     },
     "execution_count": 25,
     "metadata": {},
     "output_type": "execute_result"
    }
   ],
   "source": [
    "so_surv_df.shape"
   ]
  },
  {
   "cell_type": "code",
   "execution_count": 26,
   "id": "c625871e",
   "metadata": {},
   "outputs": [
    {
     "data": {
      "text/plain": [
       "Index(['organisation', 'year', 'vendor_country', 'vendor_name', 'amount',\n",
       "       'description', 'country_code', 'Type', 'Period'],\n",
       "      dtype='object')"
      ]
     },
     "execution_count": 26,
     "metadata": {},
     "output_type": "execute_result"
    }
   ],
   "source": [
    "so_surv_df.columns"
   ]
  },
  {
   "cell_type": "code",
   "execution_count": 27,
   "id": "fcf56f5a",
   "metadata": {},
   "outputs": [
    {
     "name": "stdout",
     "output_type": "stream",
     "text": [
      "<class 'pandas.core.frame.DataFrame'>\n",
      "RangeIndex: 7202 entries, 0 to 7201\n",
      "Data columns (total 9 columns):\n",
      " #   Column          Non-Null Count  Dtype \n",
      "---  ------          --------------  ----- \n",
      " 0   organisation    7202 non-null   object\n",
      " 1   year            7202 non-null   int64 \n",
      " 2   vendor_country  7202 non-null   object\n",
      " 3   vendor_name     7202 non-null   object\n",
      " 4   amount          7202 non-null   object\n",
      " 5   description     7202 non-null   object\n",
      " 6   country_code    7202 non-null   object\n",
      " 7   Type            7202 non-null   object\n",
      " 8   Period          7202 non-null   object\n",
      "dtypes: int64(1), object(8)\n",
      "memory usage: 506.5+ KB\n"
     ]
    }
   ],
   "source": [
    "so_surv_df.info()"
   ]
  },
  {
   "cell_type": "code",
   "execution_count": 28,
   "id": "e76d8ab2",
   "metadata": {},
   "outputs": [
    {
     "data": {
      "text/plain": [
       "0       NATO\n",
       "1       NATO\n",
       "2       NATO\n",
       "3       NATO\n",
       "4       NATO\n",
       "        ... \n",
       "7197    NATO\n",
       "7198    NATO\n",
       "7199    NATO\n",
       "7200    NATO\n",
       "7201    NATO\n",
       "Name: organisation, Length: 7202, dtype: object"
      ]
     },
     "execution_count": 28,
     "metadata": {},
     "output_type": "execute_result"
    }
   ],
   "source": [
    "so_surv_df['organisation']"
   ]
  },
  {
   "cell_type": "code",
   "execution_count": 29,
   "id": "5c5f8b2f",
   "metadata": {},
   "outputs": [
    {
     "data": {
      "text/plain": [
       "2011    1137\n",
       "2012     799\n",
       "2015     770\n",
       "2014     690\n",
       "2009     610\n",
       "2018     574\n",
       "2016     572\n",
       "2013     571\n",
       "2010     482\n",
       "2019     425\n",
       "2017     359\n",
       "2008     213\n",
       "Name: year, dtype: int64"
      ]
     },
     "execution_count": 29,
     "metadata": {},
     "output_type": "execute_result"
    }
   ],
   "source": [
    "so_surv_df['year'].value_counts()"
   ]
  },
  {
   "cell_type": "code",
   "execution_count": 30,
   "id": "69f9a35b",
   "metadata": {},
   "outputs": [
    {
     "data": {
      "text/plain": [
       "HELIAVIAS HAVA DIS TICARET             246\n",
       "KRAUSS-MAFFEI WEGMANN GMBH & CO KG     102\n",
       "EXPAL SYSTEMS SA                        79\n",
       "INTEGRATED PROCUREMENT TECHNOLOGIES     79\n",
       "BELL HELICOPTER SUPPLY CENTER BV        66\n",
       "                                      ... \n",
       "GEO.GA. COSTRUZIONI SRL                  1\n",
       "EUROVINIL SPA                            1\n",
       "AEDES AURORA SRL                         1\n",
       "MEPROLIGHT                               1\n",
       "TRIMBLE MILITARY AND ADVANCED            1\n",
       "Name: vendor_name, Length: 2209, dtype: int64"
      ]
     },
     "execution_count": 30,
     "metadata": {},
     "output_type": "execute_result"
    }
   ],
   "source": [
    "so_surv_df['vendor_name'].value_counts()"
   ]
  },
  {
   "cell_type": "code",
   "execution_count": 31,
   "id": "3201463c",
   "metadata": {},
   "outputs": [
    {
     "data": {
      "text/plain": [
       "$0.00            199\n",
       "$399,000.00       14\n",
       "$1,330,000.00     12\n",
       "$1,102,500.00     12\n",
       "$1,110,000.00     11\n",
       "                ... \n",
       "$571,833.60        1\n",
       "$151,799.04        1\n",
       "$130,278.40        1\n",
       "$115,569.92        1\n",
       "$1,876,463.68      1\n",
       "Name: amount, Length: 6397, dtype: int64"
      ]
     },
     "execution_count": 31,
     "metadata": {},
     "output_type": "execute_result"
    }
   ],
   "source": [
    "so_surv_df['amount'].value_counts()"
   ]
  },
  {
   "cell_type": "code",
   "execution_count": 32,
   "id": "de2f3f94",
   "metadata": {},
   "outputs": [
    {
     "data": {
      "text/plain": [
       "HELICOPTER SUPPLIES                                    136\n",
       "SUPPLY OF AMMUNITION                                   135\n",
       "AMMUNITION SUPPLIES                                    118\n",
       "RANDOM BROKERAGE SUPPLIES                              101\n",
       "PROVISION OF AMMUNITION                                 87\n",
       "                                                      ... \n",
       "SUPPLY OF CENTRIFUGAL PUMPS                              1\n",
       "SUPPLY OF TIRES FOR CN-235 AIRCRAFT                      1\n",
       "SUBASSY                                                  1\n",
       "REPAIR OF VIKING  GONIOMETER                             1\n",
       "PROVISION NATO FUEL MONITORING SERV- AUG-DEC - 2019      1\n",
       "Name: description, Length: 4431, dtype: int64"
      ]
     },
     "execution_count": 32,
     "metadata": {},
     "output_type": "execute_result"
    }
   ],
   "source": [
    "so_surv_df['description'].value_counts()"
   ]
  },
  {
   "cell_type": "code",
   "execution_count": 20,
   "id": "15403db0",
   "metadata": {},
   "outputs": [
    {
     "data": {
      "text/plain": [
       "USA    1329\n",
       "DEU    1115\n",
       "FRA     929\n",
       "GBR     669\n",
       "TUR     590\n",
       "ITA     517\n",
       "ESP     441\n",
       "BEL     256\n",
       "NLD     192\n",
       "LUX     174\n",
       "NOR     159\n",
       "GRC     118\n",
       "CAN      96\n",
       "CZE      73\n",
       "FIN      65\n",
       "SWE      63\n",
       "HUN      52\n",
       "DNK      46\n",
       "PRT      43\n",
       "POL      40\n",
       "AUT      32\n",
       "ROU      24\n",
       "ISR      22\n",
       "CHE      19\n",
       "BGR      17\n",
       "LVA      17\n",
       "LTU      14\n",
       "AFG      12\n",
       "UKR      10\n",
       "ARE      10\n",
       "EST       9\n",
       "SVK       8\n",
       "ALB       6\n",
       "JOR       6\n",
       "HRV       3\n",
       "AZE       3\n",
       "MRT       3\n",
       "SVN       2\n",
       "KSV       2\n",
       "GEO       2\n",
       "IRL       2\n",
       "RUS       2\n",
       "UZB       2\n",
       "MKD       2\n",
       "MCO       1\n",
       "ZAF       1\n",
       "SRB       1\n",
       "AUS       1\n",
       "MNE       1\n",
       "ISL       1\n",
       "Name: country_code, dtype: int64"
      ]
     },
     "execution_count": 20,
     "metadata": {},
     "output_type": "execute_result"
    }
   ],
   "source": [
    "so_surv_df['country_code'].value_counts()"
   ]
  },
  {
   "cell_type": "code",
   "execution_count": 21,
   "id": "d599f321",
   "metadata": {},
   "outputs": [
    {
     "data": {
      "text/plain": [
       "Orders Awarded       5714\n",
       "Outline Agreement    1488\n",
       "Name: Type, dtype: int64"
      ]
     },
     "execution_count": 21,
     "metadata": {},
     "output_type": "execute_result"
    }
   ],
   "source": [
    "so_surv_df['Type'].value_counts()"
   ]
  },
  {
   "cell_type": "code",
   "execution_count": 22,
   "id": "2f6bfd8f",
   "metadata": {},
   "outputs": [
    {
     "data": {
      "text/plain": [
       "Q3Q4    3812\n",
       "Q1Q2    3390\n",
       "Name: Period, dtype: int64"
      ]
     },
     "execution_count": 22,
     "metadata": {},
     "output_type": "execute_result"
    }
   ],
   "source": [
    "so_surv_df['Period'].value_counts()"
   ]
  },
  {
   "cell_type": "code",
   "execution_count": null,
   "id": "44675df4",
   "metadata": {},
   "outputs": [],
   "source": []
  }
 ],
 "metadata": {
  "kernelspec": {
   "display_name": "Python 3 (ipykernel)",
   "language": "python",
   "name": "python3"
  },
  "language_info": {
   "codemirror_mode": {
    "name": "ipython",
    "version": 3
   },
   "file_extension": ".py",
   "mimetype": "text/x-python",
   "name": "python",
   "nbconvert_exporter": "python",
   "pygments_lexer": "ipython3",
   "version": "3.10.8"
  }
 },
 "nbformat": 4,
 "nbformat_minor": 5
}
