{
 "cells": [
  {
   "cell_type": "code",
   "execution_count": 1,
   "id": "e53a89ec",
   "metadata": {},
   "outputs": [],
   "source": [
    "import numpy as np"
   ]
  },
  {
   "cell_type": "code",
   "execution_count": 2,
   "id": "17d419e2",
   "metadata": {},
   "outputs": [
    {
     "data": {
      "text/plain": [
       "array([1, 2, 3])"
      ]
     },
     "execution_count": 2,
     "metadata": {},
     "output_type": "execute_result"
    }
   ],
   "source": [
    "ex_arr1 = np.array([1,2,3])\n",
    "ex_arr1"
   ]
  },
  {
   "cell_type": "code",
   "execution_count": 4,
   "id": "e4f800a2",
   "metadata": {},
   "outputs": [
    {
     "data": {
      "text/plain": [
       "array([[1, 2, 3],\n",
       "       [4, 5, 6]])"
      ]
     },
     "execution_count": 4,
     "metadata": {},
     "output_type": "execute_result"
    }
   ],
   "source": [
    "ex_arr2 = np.array([[1,2,3],[4,5,6]])\n",
    "ex_arr2"
   ]
  },
  {
   "cell_type": "code",
   "execution_count": 7,
   "id": "a04ab629",
   "metadata": {},
   "outputs": [
    {
     "data": {
      "text/plain": [
       "array([[1, 2, 3],\n",
       "       [4, 5, 6],\n",
       "       [7, 8, 9]])"
      ]
     },
     "execution_count": 7,
     "metadata": {},
     "output_type": "execute_result"
    }
   ],
   "source": [
    "ex_arr3 = np.array([[1,2,3],[4,5,6],[7,8,9]])\n",
    "ex_arr3"
   ]
  },
  {
   "cell_type": "code",
   "execution_count": 5,
   "id": "117cdb81",
   "metadata": {},
   "outputs": [],
   "source": [
    "### Access numpy array elements"
   ]
  },
  {
   "cell_type": "code",
   "execution_count": 8,
   "id": "aec66bd0",
   "metadata": {},
   "outputs": [
    {
     "data": {
      "text/plain": [
       "6"
      ]
     },
     "execution_count": 8,
     "metadata": {},
     "output_type": "execute_result"
    }
   ],
   "source": [
    "ex_arr3[1,2]"
   ]
  },
  {
   "cell_type": "code",
   "execution_count": 10,
   "id": "baafb07f",
   "metadata": {},
   "outputs": [
    {
     "data": {
      "text/plain": [
       "array([1, 2, 3])"
      ]
     },
     "execution_count": 10,
     "metadata": {},
     "output_type": "execute_result"
    }
   ],
   "source": [
    "## Get a specific row\n",
    "ex_arr3[0,:]"
   ]
  },
  {
   "cell_type": "code",
   "execution_count": 14,
   "id": "22dac27d",
   "metadata": {},
   "outputs": [
    {
     "data": {
      "text/plain": [
       "array([2, 5, 8])"
      ]
     },
     "execution_count": 14,
     "metadata": {},
     "output_type": "execute_result"
    }
   ],
   "source": [
    "ex_arr3[:,1]"
   ]
  },
  {
   "cell_type": "code",
   "execution_count": 16,
   "id": "45db23b3",
   "metadata": {},
   "outputs": [
    {
     "data": {
      "text/plain": [
       "array([[ 1,  2,  3],\n",
       "       [ 4,  5,  6],\n",
       "       [ 7, 88,  9]])"
      ]
     },
     "execution_count": 16,
     "metadata": {},
     "output_type": "execute_result"
    }
   ],
   "source": [
    "## Change the value of an element\n",
    "\n",
    "ex_arr3[2,1] = 88\n",
    "ex_arr3"
   ]
  },
  {
   "cell_type": "code",
   "execution_count": null,
   "id": "b9d384ce",
   "metadata": {},
   "outputs": [],
   "source": []
  },
  {
   "cell_type": "code",
   "execution_count": null,
   "id": "5cfa53e9",
   "metadata": {},
   "outputs": [],
   "source": []
  }
 ],
 "metadata": {
  "kernelspec": {
   "display_name": "Python 3 (ipykernel)",
   "language": "python",
   "name": "python3"
  },
  "language_info": {
   "codemirror_mode": {
    "name": "ipython",
    "version": 3
   },
   "file_extension": ".py",
   "mimetype": "text/x-python",
   "name": "python",
   "nbconvert_exporter": "python",
   "pygments_lexer": "ipython3",
   "version": "3.10.8"
  }
 },
 "nbformat": 4,
 "nbformat_minor": 5
}
