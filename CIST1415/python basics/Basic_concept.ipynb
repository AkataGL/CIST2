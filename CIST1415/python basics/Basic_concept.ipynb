{
 "cells": [
  {
   "cell_type": "markdown",
   "id": "f3a6b099",
   "metadata": {},
   "source": [
    "### Python language basics"
   ]
  },
  {
   "cell_type": "code",
   "execution_count": 1,
   "id": "c1540c98",
   "metadata": {},
   "outputs": [
    {
     "name": "stdout",
     "output_type": "stream",
     "text": [
      "Hello World\n"
     ]
    }
   ],
   "source": [
    "print('Hello World')"
   ]
  },
  {
   "cell_type": "code",
   "execution_count": 7,
   "id": "24ed3402",
   "metadata": {},
   "outputs": [],
   "source": [
    "# To determine if the input(x) is odd or even\n",
    "def find_even_odd(x):\n",
    "    if x%2==0:\n",
    "        \"\"\"\n",
    "        Is inout dividing by 2 is 0, input is even.\n",
    "        else odd\n",
    "        \"\"\"\n",
    "        print('Even')\n",
    "    else:\n",
    "        print('Odd')"
   ]
  },
  {
   "cell_type": "code",
   "execution_count": 8,
   "id": "bf706766",
   "metadata": {},
   "outputs": [
    {
     "name": "stdout",
     "output_type": "stream",
     "text": [
      "Even\n"
     ]
    }
   ],
   "source": [
    " find_even_odd(14)"
   ]
  },
  {
   "cell_type": "markdown",
   "id": "ce025bd6",
   "metadata": {},
   "source": [
    "### Variables and Passing Arguments"
   ]
  },
  {
   "cell_type": "code",
   "execution_count": 10,
   "id": "65e1df6c",
   "metadata": {},
   "outputs": [
    {
     "data": {
      "text/plain": [
       "[1, 2, 3]"
      ]
     },
     "execution_count": 10,
     "metadata": {},
     "output_type": "execute_result"
    }
   ],
   "source": [
    "a =[1,2,3]\n",
    "a"
   ]
  },
  {
   "cell_type": "code",
   "execution_count": 11,
   "id": "8c55f220",
   "metadata": {},
   "outputs": [
    {
     "data": {
      "text/plain": [
       "[1, 2, 3]"
      ]
     },
     "execution_count": 11,
     "metadata": {},
     "output_type": "execute_result"
    }
   ],
   "source": [
    "b = a\n",
    "b"
   ]
  },
  {
   "cell_type": "code",
   "execution_count": 12,
   "id": "48331973",
   "metadata": {},
   "outputs": [
    {
     "name": "stdout",
     "output_type": "stream",
     "text": [
      "[1, 2, 3, 10]\n",
      "[1, 2, 3, 10]\n"
     ]
    }
   ],
   "source": [
    "a.append(10)\n",
    "print(a)\n",
    "print(b)"
   ]
  },
  {
   "cell_type": "code",
   "execution_count": 17,
   "id": "42688dbb",
   "metadata": {},
   "outputs": [
    {
     "name": "stdout",
     "output_type": "stream",
     "text": [
      "[1, 2, 3, 10, 50, 50, 50]\n",
      "[1, 2, 3, 10, 50, 50]\n"
     ]
    }
   ],
   "source": [
    "c = a.copy()\n",
    "a.append(50)\n",
    "print(a)\n",
    "print(c)\n"
   ]
  },
  {
   "cell_type": "code",
   "execution_count": 18,
   "id": "4abbc485",
   "metadata": {},
   "outputs": [
    {
     "data": {
      "text/plain": [
       "int"
      ]
     },
     "execution_count": 18,
     "metadata": {},
     "output_type": "execute_result"
    }
   ],
   "source": [
    "int1 = 5\n",
    "type(int1)"
   ]
  },
  {
   "cell_type": "code",
   "execution_count": 19,
   "id": "08a23986",
   "metadata": {},
   "outputs": [
    {
     "data": {
      "text/plain": [
       "str"
      ]
     },
     "execution_count": 19,
     "metadata": {},
     "output_type": "execute_result"
    }
   ],
   "source": [
    "str1 = 'test'\n",
    "type(str1)"
   ]
  },
  {
   "cell_type": "code",
   "execution_count": 20,
   "id": "74fdec35",
   "metadata": {},
   "outputs": [
    {
     "data": {
      "text/plain": [
       "True"
      ]
     },
     "execution_count": 20,
     "metadata": {},
     "output_type": "execute_result"
    }
   ],
   "source": [
    "isinstance(int1,int)"
   ]
  },
  {
   "cell_type": "code",
   "execution_count": 22,
   "id": "b8c45a95",
   "metadata": {},
   "outputs": [
    {
     "data": {
      "text/plain": [
       "6"
      ]
     },
     "execution_count": 22,
     "metadata": {},
     "output_type": "execute_result"
    }
   ],
   "source": [
    "int1 = int1 + 1\n",
    "int1"
   ]
  },
  {
   "cell_type": "code",
   "execution_count": 23,
   "id": "fac082a7",
   "metadata": {},
   "outputs": [
    {
     "data": {
      "text/plain": [
       "7"
      ]
     },
     "execution_count": 23,
     "metadata": {},
     "output_type": "execute_result"
    }
   ],
   "source": [
    "#Better approach\n",
    "int1 += 1\n",
    "int1"
   ]
  },
  {
   "cell_type": "code",
   "execution_count": 24,
   "id": "987d6a4d",
   "metadata": {},
   "outputs": [
    {
     "data": {
      "text/plain": [
       "False"
      ]
     },
     "execution_count": 24,
     "metadata": {},
     "output_type": "execute_result"
    }
   ],
   "source": [
    "int2 = 10\n",
    "int1 == int2"
   ]
  },
  {
   "cell_type": "code",
   "execution_count": 25,
   "id": "8d23f2b3",
   "metadata": {},
   "outputs": [
    {
     "data": {
      "text/plain": [
       "True"
      ]
     },
     "execution_count": 25,
     "metadata": {},
     "output_type": "execute_result"
    }
   ],
   "source": [
    "int1 != int2 # < > !< !>"
   ]
  },
  {
   "cell_type": "code",
   "execution_count": 26,
   "id": "2c412a0f",
   "metadata": {},
   "outputs": [
    {
     "data": {
      "text/plain": [
       "'2023'"
      ]
     },
     "execution_count": 26,
     "metadata": {},
     "output_type": "execute_result"
    }
   ],
   "source": [
    "str1 = '20'\n",
    "str2 = '23'\n",
    "\n",
    "str1+str2"
   ]
  },
  {
   "cell_type": "code",
   "execution_count": 27,
   "id": "79a62b0c",
   "metadata": {},
   "outputs": [
    {
     "data": {
      "text/plain": [
       "43"
      ]
     },
     "execution_count": 27,
     "metadata": {},
     "output_type": "execute_result"
    }
   ],
   "source": [
    "num1 = int(str1)\n",
    "num2 = int(str2)\n",
    "\n",
    "num1 + num2"
   ]
  },
  {
   "cell_type": "markdown",
   "id": "b5455bda",
   "metadata": {},
   "source": [
    "### Strings"
   ]
  },
  {
   "cell_type": "code",
   "execution_count": 28,
   "id": "f9fdb328",
   "metadata": {},
   "outputs": [
    {
     "data": {
      "text/plain": [
       "'Welcome'"
      ]
     },
     "execution_count": 28,
     "metadata": {},
     "output_type": "execute_result"
    }
   ],
   "source": [
    "greeting = 'Welcome'\n",
    "greeting"
   ]
  },
  {
   "cell_type": "code",
   "execution_count": 30,
   "id": "1afcc743",
   "metadata": {},
   "outputs": [
    {
     "data": {
      "text/plain": [
       "\"Welcome to today's class\""
      ]
     },
     "execution_count": 30,
     "metadata": {},
     "output_type": "execute_result"
    }
   ],
   "source": [
    "greeting = \"Welcome to today's class\"\n",
    "greeting"
   ]
  },
  {
   "cell_type": "code",
   "execution_count": 31,
   "id": "fee7151a",
   "metadata": {},
   "outputs": [
    {
     "ename": "SyntaxError",
     "evalue": "unterminated string literal (detected at line 1) (2827228438.py, line 1)",
     "output_type": "error",
     "traceback": [
      "\u001b[1;36m  Cell \u001b[1;32mIn[31], line 1\u001b[1;36m\u001b[0m\n\u001b[1;33m    greeting ='Welcome to today's class'\u001b[0m\n\u001b[1;37m                                       ^\u001b[0m\n\u001b[1;31mSyntaxError\u001b[0m\u001b[1;31m:\u001b[0m unterminated string literal (detected at line 1)\n"
     ]
    }
   ],
   "source": [
    "greeting ='Welcome to today's class'"
   ]
  },
  {
   "cell_type": "code",
   "execution_count": 33,
   "id": "caead285",
   "metadata": {},
   "outputs": [
    {
     "name": "stdout",
     "output_type": "stream",
     "text": [
      "Welcome to today's class\n",
      "Welcome to today's lecture\n"
     ]
    }
   ],
   "source": [
    "new_greeting = greeting.replace('class','lecture')\n",
    "print(greeting)\n",
    "print(new_greeting)"
   ]
  },
  {
   "cell_type": "markdown",
   "id": "7bec9fbe",
   "metadata": {},
   "source": [
    "### More string functions\n",
    "* lower\n",
    "* upper\n",
    "* count\n",
    "* find"
   ]
  },
  {
   "cell_type": "code",
   "execution_count": 3,
   "id": "49eadde2",
   "metadata": {},
   "outputs": [],
   "source": [
    "course_name = \"Data Analytics\""
   ]
  },
  {
   "cell_type": "code",
   "execution_count": 4,
   "id": "533bba5e",
   "metadata": {},
   "outputs": [
    {
     "data": {
      "text/plain": [
       "'DATA ANALYTICS'"
      ]
     },
     "execution_count": 4,
     "metadata": {},
     "output_type": "execute_result"
    }
   ],
   "source": [
    "course_name.upper()"
   ]
  },
  {
   "cell_type": "code",
   "execution_count": 5,
   "id": "fc60760d",
   "metadata": {},
   "outputs": [
    {
     "data": {
      "text/plain": [
       "'data analytics'"
      ]
     },
     "execution_count": 5,
     "metadata": {},
     "output_type": "execute_result"
    }
   ],
   "source": [
    "course_name.lower()"
   ]
  },
  {
   "cell_type": "code",
   "execution_count": 6,
   "id": "35adf662",
   "metadata": {},
   "outputs": [
    {
     "data": {
      "text/plain": [
       "3"
      ]
     },
     "execution_count": 6,
     "metadata": {},
     "output_type": "execute_result"
    }
   ],
   "source": [
    "course_name.count('a')"
   ]
  },
  {
   "cell_type": "code",
   "execution_count": 8,
   "id": "126fb950",
   "metadata": {},
   "outputs": [
    {
     "data": {
      "text/plain": [
       "5"
      ]
     },
     "execution_count": 8,
     "metadata": {},
     "output_type": "execute_result"
    }
   ],
   "source": [
    "course_name.find('Analytics')"
   ]
  },
  {
   "cell_type": "code",
   "execution_count": 9,
   "id": "7b3dd4aa",
   "metadata": {},
   "outputs": [
    {
     "data": {
      "text/plain": [
       "0"
      ]
     },
     "execution_count": 9,
     "metadata": {},
     "output_type": "execute_result"
    }
   ],
   "source": [
    "course_name.count('z')"
   ]
  },
  {
   "cell_type": "code",
   "execution_count": 10,
   "id": "f626a3bc",
   "metadata": {},
   "outputs": [
    {
     "data": {
      "text/plain": [
       "5"
      ]
     },
     "execution_count": 10,
     "metadata": {},
     "output_type": "execute_result"
    }
   ],
   "source": [
    "course_name.find('Analytics')"
   ]
  },
  {
   "cell_type": "code",
   "execution_count": 11,
   "id": "d82db675",
   "metadata": {},
   "outputs": [
    {
     "data": {
      "text/plain": [
       "-1"
      ]
     },
     "execution_count": 11,
     "metadata": {},
     "output_type": "execute_result"
    }
   ],
   "source": [
    "course_name.find('Science')"
   ]
  },
  {
   "cell_type": "markdown",
   "id": "63914445",
   "metadata": {},
   "source": [
    "### String Formatting- using f strings"
   ]
  },
  {
   "cell_type": "code",
   "execution_count": 14,
   "id": "e6d6d140",
   "metadata": {},
   "outputs": [
    {
     "name": "stdout",
     "output_type": "stream",
     "text": [
      "There are 12 students in programming class.\n"
     ]
    }
   ],
   "source": [
    "course ='programming'\n",
    "enrollment = 12\n",
    "# There are 12 students in programming class\n",
    "class_details = f'There are {enrollment} students in {course} class.'\n",
    "print (class_details)"
   ]
  },
  {
   "cell_type": "markdown",
   "id": "e6c30709",
   "metadata": {},
   "source": [
    "#### f string can also help with perform calculations"
   ]
  },
  {
   "cell_type": "code",
   "execution_count": 19,
   "id": "7accbcfb",
   "metadata": {},
   "outputs": [
    {
     "name": "stdout",
     "output_type": "stream",
     "text": [
      "The average score for the programming class is 44.5\n"
     ]
    }
   ],
   "source": [
    "score = 534\n",
    "\n",
    "ave_score = f'The average score for the {course} class is {score/enrollment}'\n",
    "print(ave_score)"
   ]
  },
  {
   "cell_type": "code",
   "execution_count": 20,
   "id": "af31a664",
   "metadata": {},
   "outputs": [
    {
     "data": {
      "text/plain": [
       "'5 times 12 is 60'"
      ]
     },
     "execution_count": 20,
     "metadata": {},
     "output_type": "execute_result"
    }
   ],
   "source": [
    "f'5 times 12 is {5*12}'"
   ]
  },
  {
   "cell_type": "markdown",
   "id": "872228fa",
   "metadata": {},
   "source": [
    "#### We can also perform sting manipulations using f strings"
   ]
  },
  {
   "cell_type": "code",
   "execution_count": 23,
   "id": "d9a4adc4",
   "metadata": {},
   "outputs": [
    {
     "name": "stdout",
     "output_type": "stream",
     "text": [
      "Name of the employee is Jane Doe\n"
     ]
    }
   ],
   "source": [
    "first_name = 'Jane'\n",
    "last_name = 'Doe'\n",
    "\n",
    "emp_name = f'Name of the employee is {first_name} {last_name}'\n",
    "print(emp_name)"
   ]
  },
  {
   "cell_type": "code",
   "execution_count": 24,
   "id": "782f8dc4",
   "metadata": {},
   "outputs": [
    {
     "name": "stdout",
     "output_type": "stream",
     "text": [
      "Name of the employee is jane DOE\n"
     ]
    }
   ],
   "source": [
    "emp_name = f'Name of the employee is {first_name.lower()} {last_name.upper()}'\n",
    "print(emp_name)"
   ]
  },
  {
   "cell_type": "markdown",
   "id": "15c3403e",
   "metadata": {},
   "source": [
    "#### f strings support number formatting"
   ]
  },
  {
   "cell_type": "code",
   "execution_count": 26,
   "id": "47aeeee8",
   "metadata": {},
   "outputs": [
    {
     "data": {
      "text/plain": [
       "'Number of employees are 5'"
      ]
     },
     "execution_count": 26,
     "metadata": {},
     "output_type": "execute_result"
    }
   ],
   "source": [
    "num_emp = 5\n",
    "f'Number of employees are {num_emp}'"
   ]
  },
  {
   "cell_type": "code",
   "execution_count": 27,
   "id": "10101a82",
   "metadata": {
    "scrolled": true
   },
   "outputs": [
    {
     "data": {
      "text/plain": [
       "'Number of employees are 05'"
      ]
     },
     "execution_count": 27,
     "metadata": {},
     "output_type": "execute_result"
    }
   ],
   "source": [
    "f'Number of employees are {num_emp:02}'"
   ]
  },
  {
   "cell_type": "code",
   "execution_count": 28,
   "id": "714bfa02",
   "metadata": {},
   "outputs": [
    {
     "data": {
      "text/plain": [
       "'Number of employees are 0005'"
      ]
     },
     "execution_count": 28,
     "metadata": {},
     "output_type": "execute_result"
    }
   ],
   "source": [
    "f'Number of employees are {num_emp:04}'"
   ]
  },
  {
   "cell_type": "code",
   "execution_count": 29,
   "id": "1e7b8a68",
   "metadata": {},
   "outputs": [
    {
     "data": {
      "text/plain": [
       "'Given float is 23.91'"
      ]
     },
     "execution_count": 29,
     "metadata": {},
     "output_type": "execute_result"
    }
   ],
   "source": [
    "float_num = 23.909172\n",
    "f'Given float is {float_num:.2f}'"
   ]
  },
  {
   "cell_type": "code",
   "execution_count": 30,
   "id": "ca4474c7",
   "metadata": {},
   "outputs": [
    {
     "data": {
      "text/plain": [
       "'Given float is 23.9092'"
      ]
     },
     "execution_count": 30,
     "metadata": {},
     "output_type": "execute_result"
    }
   ],
   "source": [
    "f'Given float is {float_num:.4f}'"
   ]
  },
  {
   "cell_type": "markdown",
   "id": "0e20e560",
   "metadata": {},
   "source": [
    "### Conditional and Booleans\n",
    "* #### Bollean operators - True and False\n",
    "\n",
    "* #### Logical operaters - 'and' 'or'"
   ]
  },
  {
   "cell_type": "code",
   "execution_count": 32,
   "id": "834d1102",
   "metadata": {},
   "outputs": [
    {
     "data": {
      "text/plain": [
       "True"
      ]
     },
     "execution_count": 32,
     "metadata": {},
     "output_type": "execute_result"
    }
   ],
   "source": [
    "True and True"
   ]
  },
  {
   "cell_type": "code",
   "execution_count": 33,
   "id": "ac1882bb",
   "metadata": {},
   "outputs": [
    {
     "data": {
      "text/plain": [
       "False"
      ]
     },
     "execution_count": 33,
     "metadata": {},
     "output_type": "execute_result"
    }
   ],
   "source": [
    "True and False"
   ]
  },
  {
   "cell_type": "code",
   "execution_count": 34,
   "id": "d1bbf905",
   "metadata": {},
   "outputs": [
    {
     "data": {
      "text/plain": [
       "True"
      ]
     },
     "execution_count": 34,
     "metadata": {},
     "output_type": "execute_result"
    }
   ],
   "source": [
    "True or False"
   ]
  },
  {
   "cell_type": "code",
   "execution_count": 35,
   "id": "32984d17",
   "metadata": {},
   "outputs": [
    {
     "data": {
      "text/plain": [
       "1"
      ]
     },
     "execution_count": 35,
     "metadata": {},
     "output_type": "execute_result"
    }
   ],
   "source": [
    "int(True)"
   ]
  },
  {
   "cell_type": "code",
   "execution_count": 36,
   "id": "bb15feb8",
   "metadata": {},
   "outputs": [
    {
     "data": {
      "text/plain": [
       "0"
      ]
     },
     "execution_count": 36,
     "metadata": {},
     "output_type": "execute_result"
    }
   ],
   "source": [
    "int(False)"
   ]
  },
  {
   "cell_type": "markdown",
   "id": "f35b28ee",
   "metadata": {},
   "source": [
    "#### Can also perform arithmetic operations using booleans"
   ]
  },
  {
   "cell_type": "code",
   "execution_count": 38,
   "id": "a15ff263",
   "metadata": {},
   "outputs": [
    {
     "data": {
      "text/plain": [
       "0"
      ]
     },
     "execution_count": 38,
     "metadata": {},
     "output_type": "execute_result"
    }
   ],
   "source": [
    "True - True"
   ]
  },
  {
   "cell_type": "code",
   "execution_count": 39,
   "id": "4476a628",
   "metadata": {},
   "outputs": [
    {
     "data": {
      "text/plain": [
       "0"
      ]
     },
     "execution_count": 39,
     "metadata": {},
     "output_type": "execute_result"
    }
   ],
   "source": [
    "True * False"
   ]
  },
  {
   "cell_type": "code",
   "execution_count": 40,
   "id": "9e58d4a5",
   "metadata": {},
   "outputs": [
    {
     "data": {
      "text/plain": [
       "1"
      ]
     },
     "execution_count": 40,
     "metadata": {},
     "output_type": "execute_result"
    }
   ],
   "source": [
    "True * True"
   ]
  },
  {
   "cell_type": "markdown",
   "id": "c98c65a6",
   "metadata": {},
   "source": [
    "#### Understanding how conditianls work with booleans"
   ]
  },
  {
   "cell_type": "code",
   "execution_count": 41,
   "id": "f2053950",
   "metadata": {},
   "outputs": [
    {
     "name": "stdout",
     "output_type": "stream",
     "text": [
      "Condition is True\n"
     ]
    }
   ],
   "source": [
    "if True:\n",
    "    print ('Condition is True')"
   ]
  },
  {
   "cell_type": "code",
   "execution_count": 42,
   "id": "0a25103c",
   "metadata": {},
   "outputs": [],
   "source": [
    "if False:\n",
    "    print ('Condition is True')"
   ]
  },
  {
   "cell_type": "code",
   "execution_count": 47,
   "id": "fc1e8352",
   "metadata": {},
   "outputs": [
    {
     "name": "stdout",
     "output_type": "stream",
     "text": [
      "Department is cist\n"
     ]
    }
   ],
   "source": [
    "dept = 'cist'\n",
    "if dept == 'cist':\n",
    "    print('Department is cist')"
   ]
  },
  {
   "cell_type": "code",
   "execution_count": 48,
   "id": "8e39666a",
   "metadata": {},
   "outputs": [
    {
     "name": "stdout",
     "output_type": "stream",
     "text": [
      "Department not found\n"
     ]
    }
   ],
   "source": [
    "dept = 'mechenical'\n",
    "if dept == 'cist':\n",
    "    print('Department is cist')\n",
    "elif dept == 'ME':\n",
    "    print('Department is mechenical')\n",
    "else:\n",
    "    print('Department not found')"
   ]
  },
  {
   "cell_type": "code",
   "execution_count": 49,
   "id": "8f00f438",
   "metadata": {},
   "outputs": [
    {
     "name": "stdout",
     "output_type": "stream",
     "text": [
      "Department is Physics\n"
     ]
    }
   ],
   "source": [
    "# Python doesn't have a swith case functionality similar to other Languages\n",
    "dept = 'Physics'\n",
    "if dept == 'cist':\n",
    "    print('Department is cist')\n",
    "elif dept == 'ME':\n",
    "    print('Department is mechenical')\n",
    "elif dept == 'Physics':\n",
    "    print('Department is Physics')\n",
    "else:\n",
    "    print('Department not found')"
   ]
  },
  {
   "cell_type": "code",
   "execution_count": 50,
   "id": "f325c3e4",
   "metadata": {},
   "outputs": [
    {
     "name": "stdout",
     "output_type": "stream",
     "text": [
      "Welcome Admin\n"
     ]
    }
   ],
   "source": [
    "user = 'Admin'\n",
    "logged_in = True\n",
    "\n",
    "if user == 'Admin' and logged_in:\n",
    "    print('Welcome Admin')\n",
    "else:\n",
    "    print('Auth failed')"
   ]
  },
  {
   "cell_type": "markdown",
   "id": "f771112b",
   "metadata": {},
   "source": [
    "#### 'not' --> reverse"
   ]
  },
  {
   "cell_type": "code",
   "execution_count": 52,
   "id": "1c8f2da5",
   "metadata": {},
   "outputs": [
    {
     "name": "stdout",
     "output_type": "stream",
     "text": [
      "Auth failed\n"
     ]
    }
   ],
   "source": [
    "user = 'Admin'\n",
    "logged_in = True\n",
    "\n",
    "if user == 'Admin' and not logged_in:\n",
    "    print('Welcome Admin')\n",
    "else:\n",
    "    print('Auth failed')"
   ]
  },
  {
   "cell_type": "markdown",
   "id": "c1b1299f",
   "metadata": {},
   "source": [
    "### Object Identity\n",
    "* = --> assignment operator\n",
    "* == --> checks for equality\n",
    "* 'is' --> checjs if the variables are pointing to the same ibject in memory if they have same object id"
   ]
  },
  {
   "cell_type": "code",
   "execution_count": 54,
   "id": "f0a9b498",
   "metadata": {},
   "outputs": [
    {
     "data": {
      "text/plain": [
       "True"
      ]
     },
     "execution_count": 54,
     "metadata": {},
     "output_type": "execute_result"
    }
   ],
   "source": [
    "a = [1,2,3]\n",
    "b = [1,2,3]\n",
    "\n",
    "a == b"
   ]
  },
  {
   "cell_type": "code",
   "execution_count": 55,
   "id": "82f209d7",
   "metadata": {},
   "outputs": [
    {
     "data": {
      "text/plain": [
       "False"
      ]
     },
     "execution_count": 55,
     "metadata": {},
     "output_type": "execute_result"
    }
   ],
   "source": [
    "a is b"
   ]
  },
  {
   "cell_type": "code",
   "execution_count": 56,
   "id": "b7c39ce9",
   "metadata": {},
   "outputs": [
    {
     "name": "stdout",
     "output_type": "stream",
     "text": [
      "1836867519552\n",
      "1836867519552\n",
      "True\n",
      "True\n"
     ]
    }
   ],
   "source": [
    "b = a \n",
    "print(id(a))\n",
    "print(id(b))\n",
    "\n",
    "print(a is b)\n",
    "print(a == b)"
   ]
  },
  {
   "cell_type": "markdown",
   "id": "8a2d8c79",
   "metadata": {},
   "source": [
    "#### What does python evaluate to True or False"
   ]
  },
  {
   "cell_type": "code",
   "execution_count": 58,
   "id": "c4b95eff",
   "metadata": {},
   "outputs": [
    {
     "name": "stdout",
     "output_type": "stream",
     "text": [
      "Result is False\n"
     ]
    }
   ],
   "source": [
    "condition = None\n",
    "\n",
    "if condition:\n",
    "    print('Result is True')\n",
    "else:\n",
    "    print('Result is False')"
   ]
  },
  {
   "cell_type": "code",
   "execution_count": 59,
   "id": "547ff06b",
   "metadata": {},
   "outputs": [
    {
     "name": "stdout",
     "output_type": "stream",
     "text": [
      "Result is False\n"
     ]
    }
   ],
   "source": [
    "condition = 0\n",
    "\n",
    "if condition:\n",
    "    print('Result is True')\n",
    "else:\n",
    "    print('Result is False')"
   ]
  },
  {
   "cell_type": "code",
   "execution_count": 60,
   "id": "81481ca4",
   "metadata": {},
   "outputs": [
    {
     "name": "stdout",
     "output_type": "stream",
     "text": [
      "Result is True\n"
     ]
    }
   ],
   "source": [
    "# any value other than 0 is True\n",
    "condition = 10\n",
    "\n",
    "if condition:\n",
    "    print('Result is True')\n",
    "else:\n",
    "    print('Result is False')"
   ]
  },
  {
   "cell_type": "code",
   "execution_count": 61,
   "id": "5ccdd20b",
   "metadata": {},
   "outputs": [
    {
     "name": "stdout",
     "output_type": "stream",
     "text": [
      "Result is False\n"
     ]
    }
   ],
   "source": [
    "condition = []\n",
    "\n",
    "if condition:\n",
    "    print('Result is True')\n",
    "else:\n",
    "    print('Result is False')"
   ]
  },
  {
   "cell_type": "code",
   "execution_count": 63,
   "id": "d3c4df31",
   "metadata": {},
   "outputs": [
    {
     "name": "stdout",
     "output_type": "stream",
     "text": [
      "Result is False\n"
     ]
    }
   ],
   "source": [
    "# any empty is False\n",
    "condition = ''\n",
    "\n",
    "if condition:\n",
    "    print('Result is True')\n",
    "else:\n",
    "    print('Result is False')"
   ]
  },
  {
   "cell_type": "markdown",
   "id": "00c6f465",
   "metadata": {},
   "source": [
    "### BUILT-IN DATA STRUCTURES\n",
    "* Lists\n",
    "* Tuples\n",
    "* Sets\n",
    "* Dictionaries "
   ]
  },
  {
   "cell_type": "markdown",
   "id": "0f2946d2",
   "metadata": {},
   "source": [
    "### Lists\n",
    "* Mutable\n",
    "    * Contents cna be modified\n",
    "    * Variable length"
   ]
  },
  {
   "cell_type": "code",
   "execution_count": 66,
   "id": "c57e849f",
   "metadata": {},
   "outputs": [
    {
     "data": {
      "text/plain": [
       "['John',\n",
       " 'Amy',\n",
       " 'Mike',\n",
       " 'Ron',\n",
       " 'Katie',\n",
       " 'Alice',\n",
       " 'Hannah',\n",
       " 'Jordan',\n",
       " 'Andy',\n",
       " 'Sam']"
      ]
     },
     "execution_count": 66,
     "metadata": {},
     "output_type": "execute_result"
    }
   ],
   "source": [
    "employees = ['John','Amy','Mike','Ron','Katie','Alice','Hannah','Jordan','Andy','Sam']\n",
    "employees"
   ]
  },
  {
   "cell_type": "code",
   "execution_count": 67,
   "id": "d535172a",
   "metadata": {},
   "outputs": [
    {
     "name": "stdout",
     "output_type": "stream",
     "text": [
      "Help on built-in function count:\n",
      "\n",
      "count(value, /) method of builtins.list instance\n",
      "    Return number of occurrences of value.\n",
      "\n"
     ]
    }
   ],
   "source": [
    "help(employees.count)"
   ]
  },
  {
   "cell_type": "code",
   "execution_count": 68,
   "id": "35dd9aed",
   "metadata": {},
   "outputs": [
    {
     "data": {
      "text/plain": [
       "1"
      ]
     },
     "execution_count": 68,
     "metadata": {},
     "output_type": "execute_result"
    }
   ],
   "source": [
    "employees.count('John')"
   ]
  },
  {
   "cell_type": "code",
   "execution_count": 69,
   "id": "8622e1d6",
   "metadata": {},
   "outputs": [
    {
     "data": {
      "text/plain": [
       "['__add__',\n",
       " '__class__',\n",
       " '__class_getitem__',\n",
       " '__contains__',\n",
       " '__delattr__',\n",
       " '__delitem__',\n",
       " '__dir__',\n",
       " '__doc__',\n",
       " '__eq__',\n",
       " '__format__',\n",
       " '__ge__',\n",
       " '__getattribute__',\n",
       " '__getitem__',\n",
       " '__gt__',\n",
       " '__hash__',\n",
       " '__iadd__',\n",
       " '__imul__',\n",
       " '__init__',\n",
       " '__init_subclass__',\n",
       " '__iter__',\n",
       " '__le__',\n",
       " '__len__',\n",
       " '__lt__',\n",
       " '__mul__',\n",
       " '__ne__',\n",
       " '__new__',\n",
       " '__reduce__',\n",
       " '__reduce_ex__',\n",
       " '__repr__',\n",
       " '__reversed__',\n",
       " '__rmul__',\n",
       " '__setattr__',\n",
       " '__setitem__',\n",
       " '__sizeof__',\n",
       " '__str__',\n",
       " '__subclasshook__',\n",
       " 'append',\n",
       " 'clear',\n",
       " 'copy',\n",
       " 'count',\n",
       " 'extend',\n",
       " 'index',\n",
       " 'insert',\n",
       " 'pop',\n",
       " 'remove',\n",
       " 'reverse',\n",
       " 'sort']"
      ]
     },
     "execution_count": 69,
     "metadata": {},
     "output_type": "execute_result"
    }
   ],
   "source": [
    "dir(employees)"
   ]
  },
  {
   "cell_type": "code",
   "execution_count": 70,
   "id": "c0ca6fba",
   "metadata": {},
   "outputs": [
    {
     "data": {
      "text/plain": [
       "10"
      ]
     },
     "execution_count": 70,
     "metadata": {},
     "output_type": "execute_result"
    }
   ],
   "source": [
    "# get the number of employees\n",
    "len(employees)"
   ]
  },
  {
   "cell_type": "code",
   "execution_count": 71,
   "id": "324e4645",
   "metadata": {},
   "outputs": [
    {
     "data": {
      "text/plain": [
       "'John'"
      ]
     },
     "execution_count": 71,
     "metadata": {},
     "output_type": "execute_result"
    }
   ],
   "source": [
    "# we can access list elements by passing index value\n",
    "employees[0]"
   ]
  },
  {
   "cell_type": "code",
   "execution_count": 72,
   "id": "a53752fa",
   "metadata": {},
   "outputs": [
    {
     "data": {
      "text/plain": [
       "'Katie'"
      ]
     },
     "execution_count": 72,
     "metadata": {},
     "output_type": "execute_result"
    }
   ],
   "source": [
    "employees[4]"
   ]
  },
  {
   "cell_type": "code",
   "execution_count": 73,
   "id": "dbc4793e",
   "metadata": {},
   "outputs": [
    {
     "data": {
      "text/plain": [
       "'Sam'"
      ]
     },
     "execution_count": 73,
     "metadata": {},
     "output_type": "execute_result"
    }
   ],
   "source": [
    "employees[-1]"
   ]
  },
  {
   "cell_type": "markdown",
   "id": "fb786838",
   "metadata": {},
   "source": [
    "### Slicing\n",
    "* to access/extract certain elements of a list or a string"
   ]
  },
  {
   "cell_type": "code",
   "execution_count": 74,
   "id": "2693d1ef",
   "metadata": {},
   "outputs": [
    {
     "data": {
      "text/plain": [
       "['John', 'Amy']"
      ]
     },
     "execution_count": 74,
     "metadata": {},
     "output_type": "execute_result"
    }
   ],
   "source": [
    "# range of values\n",
    "employees[0:2] #0, 1; ending index is not included"
   ]
  },
  {
   "cell_type": "code",
   "execution_count": 75,
   "id": "249d1059",
   "metadata": {},
   "outputs": [
    {
     "data": {
      "text/plain": [
       "['Mike', 'Ron', 'Katie', 'Alice', 'Hannah', 'Jordan', 'Andy', 'Sam']"
      ]
     },
     "execution_count": 75,
     "metadata": {},
     "output_type": "execute_result"
    }
   ],
   "source": [
    "employees[2:]"
   ]
  },
  {
   "cell_type": "code",
   "execution_count": 76,
   "id": "01866980",
   "metadata": {},
   "outputs": [
    {
     "data": {
      "text/plain": [
       "['John', 'Amy']"
      ]
     },
     "execution_count": 76,
     "metadata": {},
     "output_type": "execute_result"
    }
   ],
   "source": [
    "employees[:2]"
   ]
  },
  {
   "cell_type": "code",
   "execution_count": 77,
   "id": "c56fa994",
   "metadata": {},
   "outputs": [
    {
     "data": {
      "text/plain": [
       "['John',\n",
       " 'Amy',\n",
       " 'Mike',\n",
       " 'Ron',\n",
       " 'Katie',\n",
       " 'Alice',\n",
       " 'Hannah',\n",
       " 'Jordan',\n",
       " 'Andy',\n",
       " 'Sam']"
      ]
     },
     "execution_count": 77,
     "metadata": {},
     "output_type": "execute_result"
    }
   ],
   "source": [
    "employees[:]"
   ]
  },
  {
   "cell_type": "code",
   "execution_count": 78,
   "id": "4fca7c3c",
   "metadata": {},
   "outputs": [
    {
     "data": {
      "text/plain": [
       "['Hannah', 'Jordan']"
      ]
     },
     "execution_count": 78,
     "metadata": {},
     "output_type": "execute_result"
    }
   ],
   "source": [
    "employees[-4:-2]"
   ]
  },
  {
   "cell_type": "code",
   "execution_count": 79,
   "id": "ec925929",
   "metadata": {},
   "outputs": [
    {
     "data": {
      "text/plain": [
       "['Mike', 'Katie', 'Hannah', 'Andy']"
      ]
     },
     "execution_count": 79,
     "metadata": {},
     "output_type": "execute_result"
    }
   ],
   "source": [
    "#L[Start:stop:step]\n",
    "employees[2:9:2]"
   ]
  },
  {
   "cell_type": "code",
   "execution_count": 80,
   "id": "a46831f4",
   "metadata": {},
   "outputs": [
    {
     "data": {
      "text/plain": [
       "['Sam', 'Andy', 'Jordan', 'Hannah', 'Alice', 'Katie', 'Ron']"
      ]
     },
     "execution_count": 80,
     "metadata": {},
     "output_type": "execute_result"
    }
   ],
   "source": [
    "employees[-1:2:-1]"
   ]
  },
  {
   "cell_type": "markdown",
   "id": "eca7e2f6",
   "metadata": {},
   "source": [
    "#### Slicing strings"
   ]
  },
  {
   "cell_type": "code",
   "execution_count": 82,
   "id": "26a0ce93",
   "metadata": {},
   "outputs": [
    {
     "data": {
      "text/plain": [
       "14"
      ]
     },
     "execution_count": 82,
     "metadata": {},
     "output_type": "execute_result"
    }
   ],
   "source": [
    "course_name = 'Data Analytics'\n",
    "len(course_name)"
   ]
  },
  {
   "cell_type": "code",
   "execution_count": 83,
   "id": "cd0f6aee",
   "metadata": {},
   "outputs": [
    {
     "data": {
      "text/plain": [
       "'Data'"
      ]
     },
     "execution_count": 83,
     "metadata": {},
     "output_type": "execute_result"
    }
   ],
   "source": [
    "course_name[0:4]"
   ]
  },
  {
   "cell_type": "code",
   "execution_count": 88,
   "id": "3f4ec532",
   "metadata": {},
   "outputs": [
    {
     "data": {
      "text/plain": [
       "'Analytics'"
      ]
     },
     "execution_count": 88,
     "metadata": {},
     "output_type": "execute_result"
    }
   ],
   "source": [
    "course_name[5:]"
   ]
  },
  {
   "cell_type": "code",
   "execution_count": 89,
   "id": "b364b543",
   "metadata": {},
   "outputs": [],
   "source": [
    "url_ex ='https://www.pitt.edu'\n",
    "\n",
    "###1. .edu,2. www.pitt.edu"
   ]
  },
  {
   "cell_type": "code",
   "execution_count": 90,
   "id": "8df8b98d",
   "metadata": {},
   "outputs": [
    {
     "data": {
      "text/plain": [
       "20"
      ]
     },
     "execution_count": 90,
     "metadata": {},
     "output_type": "execute_result"
    }
   ],
   "source": [
    "len(url_ex)"
   ]
  },
  {
   "cell_type": "code",
   "execution_count": 91,
   "id": "a7f797b0",
   "metadata": {},
   "outputs": [
    {
     "data": {
      "text/plain": [
       "'.edu'"
      ]
     },
     "execution_count": 91,
     "metadata": {},
     "output_type": "execute_result"
    }
   ],
   "source": [
    "url_ex[16:]"
   ]
  },
  {
   "cell_type": "code",
   "execution_count": 92,
   "id": "eb11fbb5",
   "metadata": {},
   "outputs": [
    {
     "data": {
      "text/plain": [
       "'www.pitt.edu'"
      ]
     },
     "execution_count": 92,
     "metadata": {},
     "output_type": "execute_result"
    }
   ],
   "source": [
    "url_ex[8:]"
   ]
  },
  {
   "cell_type": "code",
   "execution_count": 93,
   "id": "8b80bdaa",
   "metadata": {},
   "outputs": [
    {
     "data": {
      "text/plain": [
       "'www.pitt.edu'"
      ]
     },
     "execution_count": 93,
     "metadata": {},
     "output_type": "execute_result"
    }
   ],
   "source": [
    "url_ex[url_ex.find('w'):]"
   ]
  },
  {
   "cell_type": "code",
   "execution_count": null,
   "id": "33db38f4",
   "metadata": {},
   "outputs": [],
   "source": []
  }
 ],
 "metadata": {
  "kernelspec": {
   "display_name": "Python 3 (ipykernel)",
   "language": "python",
   "name": "python3"
  },
  "language_info": {
   "codemirror_mode": {
    "name": "ipython",
    "version": 3
   },
   "file_extension": ".py",
   "mimetype": "text/x-python",
   "name": "python",
   "nbconvert_exporter": "python",
   "pygments_lexer": "ipython3",
   "version": "3.10.8"
  }
 },
 "nbformat": 4,
 "nbformat_minor": 5
}
